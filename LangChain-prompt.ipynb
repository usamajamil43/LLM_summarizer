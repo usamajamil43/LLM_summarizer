{
 "cells": [
  {
   "cell_type": "code",
   "execution_count": null,
   "metadata": {},
   "outputs": [],
   "source": [
    "from langchain.prompts import PromptTemplate\n",
    "\n",
    "\n",
    "# Template for the prompt \n",
    "tmpl = PromptTemplate.from_template(\n",
    "    \"\"\"Student name is {name}, studying {field_of_study} in year {year_of_study}. \n",
    "    Create a personalized study plan for them based on their subjects {subjects}, \n",
    "    learning styles {learning_styles}, goals {goals}, challenges {challenges} and \n",
    "    extracurriculars {extracurriculars}. The plan should have a supportive tone.\"\"\"\n",
    ") "
   ]
  },
  {
   "cell_type": "code",
   "execution_count": null,
   "metadata": {},
   "outputs": [],
   "source": [
    "# Create prompts\n",
    "prompts = [\n",
    "    tmpl.format(\n",
    "        name=s[\"name\"],\n",
    "        field_of_study=s[\"field_of_study\"], \n",
    "        year_of_study=s[\"year_of_study\"],\n",
    "        subjects=s[\"subjects\"],\n",
    "        learning_styles=s[\"learning_styles\"],\n",
    "        goals=s[\"goals\"],\n",
    "        challenges=s[\"challenges\"],\n",
    "        extracurriculars=s[\"extracurriculars\"]\n",
    "    ) \n",
    "    for s in students\n",
    "]"
   ]
  },
  {
   "cell_type": "code",
   "execution_count": null,
   "metadata": {},
   "outputs": [],
   "source": []
  }
 ],
 "metadata": {
  "kernelspec": {
   "display_name": "Python 3",
   "language": "python",
   "name": "python3"
  },
  "language_info": {
   "codemirror_mode": {
    "name": "ipython",
    "version": 3
   },
   "file_extension": ".py",
   "mimetype": "text/x-python",
   "name": "python",
   "nbconvert_exporter": "python",
   "pygments_lexer": "ipython3",
   "version": "3.11.4"
  }
 },
 "nbformat": 4,
 "nbformat_minor": 2
}
