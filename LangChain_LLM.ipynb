{
 "cells": [
  {
   "cell_type": "code",
   "execution_count": null,
   "metadata": {},
   "outputs": [],
   "source": [
    "# Install the required dependencies\n",
    "!pip install langchain==0.0.189 openai tiktoken pypdf"
   ]
  },
  {
   "cell_type": "code",
   "execution_count": 4,
   "metadata": {},
   "outputs": [],
   "source": [
    "from langchain.document_loaders import PyPDFLoader\n",
    "\n",
    "# Load the book\n",
    "loader = PyPDFLoader(\"crime-and-punishment.pdf\")\n",
    "pages = loader.load()\n",
    "pages\n",
    "# Cut out the open and closing parts\n",
    "pages = pages[6:743]\n",
    "\n",
    "# Combine the pages, and replace the tabs with spaces\n",
    "text = \"\"\n",
    "\n",
    "for page in pages:\n",
    "    text += page.page_content\n",
    "\n",
    "text = text.replace('\\t', ' ')"
   ]
  },
  {
   "cell_type": "code",
   "execution_count": 5,
   "metadata": {},
   "outputs": [
    {
     "data": {
      "text/plain": [
       "'\\x18 Free eBooks at Planet eBook.comChapter I\\nOn an exceptionally hot evening early in July a young \\nman came out of the garret in which he lodged in S. \\nPlace and walked slowly, as though in hesitation, towards \\nK. bridge.\\nHe had successfully avoided meeting his landlady on the \\nstaircase. His garret was under the roof of a high, five-sto -\\nried house and was more like a cupboard than a room. The \\nlandlady who provided him with garret, dinners, and at -\\ntendance, lived on the floor below, and ever'"
      ]
     },
     "execution_count": 5,
     "metadata": {},
     "output_type": "execute_result"
    }
   ],
   "source": [
    "text[0:500]"
   ]
  },
  {
   "cell_type": "code",
   "execution_count": 18,
   "metadata": {},
   "outputs": [
    {
     "data": {
      "text/plain": [
       "' Chapter I On an exceptionally hot evening early in July a young  man came out of the garret in which he lodged in S.  Place and walked slowly, as though in hesitation, towards  K. bridge. He had successfully avoided meeting his landlady on the  staircase. His garret was under the roof of a high, five-storied house and was more like a cupboard than a room. The  landlady who provided him with garret, dinners, and attendance, lived on the floor below, and every time he went  out he was obliged to pass her kitchen, the door of which  invariably stood open. And each time he passed, the young  man had a sick, frightened feeling, which made him scowl  and feel ashamed. He was hopelessly in debt to his landlady,  and was afraid of meeting her. This was not because he was cowardly and abject, quite  the contrary; but for some time past he had been in an overstrained irritable condition, verging on hypochondria. He  had become so completely absorbed in himself, and isolated from his fellows that he dreaded meeting, not only  his landlady, but anyone at all. He was crushed by poverty,  but the anxieties of his position had of late ceased to weigh  upon him. He had given up attending to matters of practical importance; he had lost all desire to do so. Nothing that  any landlady could do had a real terror for him. But to be Crime and Punishment  stopped on the stairs, to be forced to listen to her trivial, irrelevant gossip, to pestering demands for payment, threats  and complaints, and to rack his brains for excuses, to prevaricate, to lie—no, rather than that, he would creep down  the stairs like a cat and slip out unseen. This evening, however, on coming out into the street, he  became acutely aware of his fears. ‘I want to attempt a thing like that and am frightened  by these trifles,’ he thought, with an odd smile. ‘Hm … yes,  all is in a man’s hands and he lets it all slip from cowardice,  that’s an axiom. It would be interesting to know what it is  men are most afraid of'"
      ]
     },
     "execution_count": 18,
     "metadata": {},
     "output_type": "execute_result"
    }
   ],
   "source": [
    "import re\n",
    "\n",
    "\n",
    "cleaned_text = re.sub(r'\\s*Free eBooks at Planet eBook\\.com\\s*', '', text, flags=re.DOTALL)\n",
    "cleaned_text = re.sub(r' +', ' ', cleaned_text)           # Remove extra spaces\n",
    "cleaned_text = re.sub(r'[\\x00-\\x1F]', ' ', cleaned_text)  # Remove non-printable characters\n",
    "cleaned_text = cleaned_text.replace('\\n', ' ')            # Replace newline characters with spaces\n",
    "cleaned_text = re.sub(r' - ', '', cleaned_text)\n",
    "# cleaned_text = re.sub(r'([a-z])\\s+([a-z])', r'\\1\\2', cleaned_text, flags=re.I)  # Remove spaces between letters in words\n",
    "\n",
    "# Displaying the first 1000 characters after initial cleanup for review\n",
    "cleaned_text[:2000]\n"
   ]
  },
  {
   "cell_type": "code",
   "execution_count": 17,
   "metadata": {},
   "outputs": [
    {
     "data": {
      "text/plain": [
       "' Chapter I On an exceptionally hot evening early in July a young  man came out of the garret in which he lodged in S.  Place and walked slowly, as though in hesitation, towards  K. bridge. He had successfully avoided meeting his landlady on the  staircase. His garret was under the roof of a high, five-storied house and was more like a cupboard than a room. The  landlady who provided him with garret, dinners, and attendance, lived on the floor below, and every time he went  out he was obliged to pass her kitchen, the door of which  invariably stood open. And each time he passed, the young  man had a sick, frightened feeling, which made him scowl  and feel ashamed. He was hopelessly in debt to his landlady,  and was afraid of meeting her. This was not because he was cowardly and abject, quite  the contrary; but for some time past he had been in an overstrained irritable condition, verging on hypochondria. He  had become so completely absorbed in himself, and isolated from his fellows that he dreaded meeting, not only  his landlady, but anyone at all. He was crushed by poverty,  but the anxieties of his position had of late ceased to weigh  upon him. He had given up attending to matters of practical importance; he had lost all desire to do so. Nothing that  any landlady could do had a real terror for him. But to be Crime and Punishment  stopped on the stairs, to be forced to listen to her trivial, irrelevant gossip, to pestering demands for payment, threats  and complaints, and to rack his brains for excuses, to prevaricate, to lie—no, rather than that, he would creep down  the stairs like a cat and slip out unseen. This evening, however, on coming out into the street, he  became acutely aware of his fears. ‘I want to attempt a thing like that and am frightened  by these trifles,’ he thought, with an odd smile. ‘Hm … yes,  all is in a man’s hands and he lets it all slip from cowardice,  that’s an axiom. It would be interesting to know what it is  men are most afraid of'"
      ]
     },
     "execution_count": 17,
     "metadata": {},
     "output_type": "execute_result"
    }
   ],
   "source": [
    "cleaned_text[:2000]\n"
   ]
  },
  {
   "cell_type": "code",
   "execution_count": null,
   "metadata": {},
   "outputs": [],
   "source": []
  }
 ],
 "metadata": {
  "kernelspec": {
   "display_name": "Python 3",
   "language": "python",
   "name": "python3"
  },
  "language_info": {
   "codemirror_mode": {
    "name": "ipython",
    "version": 3
   },
   "file_extension": ".py",
   "mimetype": "text/x-python",
   "name": "python",
   "nbconvert_exporter": "python",
   "pygments_lexer": "ipython3",
   "version": "3.11.4"
  },
  "orig_nbformat": 4
 },
 "nbformat": 4,
 "nbformat_minor": 2
}
